{
 "cells": [
  {
   "cell_type": "code",
   "execution_count": 85,
   "metadata": {},
   "outputs": [],
   "source": [
    "import h5py\n",
    "import numpy as np\n",
    "import os \n",
    "import shutil\n",
    "from glob import glob\n",
    "pj = os.path.join"
   ]
  },
  {
   "cell_type": "code",
   "execution_count": 2,
   "metadata": {},
   "outputs": [],
   "source": [
    "all_layers_file = 'weights_layer4_tensorflow.hdf5'"
   ]
  },
  {
   "cell_type": "code",
   "execution_count": 47,
   "metadata": {},
   "outputs": [],
   "source": [
    "!cp {all_layers_file} {all_layers_file}.bup"
   ]
  },
  {
   "cell_type": "code",
   "execution_count": 49,
   "metadata": {},
   "outputs": [],
   "source": [
    "f = h5py.File(all_layers_file, 'r')\n"
   ]
  },
  {
   "cell_type": "code",
   "execution_count": 54,
   "metadata": {},
   "outputs": [],
   "source": [
    "f_out[u'ConvBNEluDr'][ u'convolution2d_3_W:0'] = conv2d_1_W"
   ]
  },
  {
   "cell_type": "code",
   "execution_count": 56,
   "metadata": {},
   "outputs": [
    {
     "data": {
      "text/plain": [
       "<HDF5 dataset \"convolution2d_3_W:0\": shape (32, 32, 3, 3), type \"<f4\">"
      ]
     },
     "execution_count": 56,
     "metadata": {},
     "output_type": "execute_result"
    }
   ],
   "source": [
    "f_out[u'ConvBNEluDr'][ u'convolution2d_3_W:0']"
   ]
  },
  {
   "cell_type": "code",
   "execution_count": 8,
   "metadata": {},
   "outputs": [],
   "source": [
    "conv2d_1_W = np.array(f[u'ConvBNEluDr'][ u'convolution2d_3_W:0'])"
   ]
  },
  {
   "cell_type": "code",
   "execution_count": 10,
   "metadata": {},
   "outputs": [
    {
     "data": {
      "text/plain": [
       "(32, 32, 3, 3)"
      ]
     },
     "execution_count": 10,
     "metadata": {},
     "output_type": "execute_result"
    }
   ],
   "source": [
    "conv2d_1_W.transpose()"
   ]
  },
  {
   "cell_type": "code",
   "execution_count": 62,
   "metadata": {},
   "outputs": [],
   "source": [
    "f_out.close()"
   ]
  },
  {
   "cell_type": "code",
   "execution_count": null,
   "metadata": {},
   "outputs": [],
   "source": [
    "f_out = "
   ]
  },
  {
   "cell_type": "code",
   "execution_count": null,
   "metadata": {},
   "outputs": [],
   "source": []
  },
  {
   "cell_type": "code",
   "execution_count": 150,
   "metadata": {},
   "outputs": [],
   "source": [
    "def convert_file(input_filename , rename_file_path):\n",
    "    f = h5py.File(input_filename, 'r')\n",
    "    print(rename_file_path)\n",
    "    if os.path.exists(rename_file_path):\n",
    "        os.remove(rename_file_path)\n",
    "    shutil.copyfile(input_filename, rename_file_path)\n",
    "\n",
    "    f_out = h5py.File(rename_file_path, 'r+')\n",
    "    def print_attrs(name, obj):\n",
    "        if type(obj) is h5py.Group:\n",
    "            return\n",
    "\n",
    "        group_name, val_name = name.split('/')\n",
    "\n",
    "        if type(obj) is h5py.Dataset and 'convolution' in name and '_W' in name:\n",
    "            f_out[group_name].move(val_name, val_name+'_bup')\n",
    "            obj = np.array(obj).transpose((0,2,3,1))\n",
    "            print(obj.shape)\n",
    "            f_out[group_name].update({val_name:  obj})\n",
    "    f.visititems(print_attrs)\n",
    "    f_out.close()\n",
    "# convert_file(all_layers_file, rename_file)"
   ]
  },
  {
   "cell_type": "code",
   "execution_count": 151,
   "metadata": {},
   "outputs": [],
   "source": [
    "directory = '.'\n",
    "files = glob(pj(directory, 'weights_layer[0-9]_tensorflow.hdf5'))"
   ]
  },
  {
   "cell_type": "code",
   "execution_count": 153,
   "metadata": {},
   "outputs": [],
   "source": [
    "import tensorflow as tf"
   ]
  },
  {
   "cell_type": "code",
   "execution_count": null,
   "metadata": {},
   "outputs": [],
   "source": [
    "tf.assign()"
   ]
  },
  {
   "cell_type": "code",
   "execution_count": 152,
   "metadata": {},
   "outputs": [
    {
     "name": "stdout",
     "output_type": "stream",
     "text": [
      "./weights_layer1_tensorflow_new.hdf5\n",
      "(32, 3, 3, 1)\n",
      "(32, 3, 3, 32)\n",
      "./weights_layer0_tensorflow_new.hdf5\n",
      "(32, 3, 3, 1)\n",
      "./weights_layer2_tensorflow_new.hdf5\n",
      "(32, 3, 3, 1)\n",
      "(32, 3, 3, 32)\n",
      "(32, 3, 3, 32)\n",
      "./weights_layer4_tensorflow_new.hdf5\n",
      "(32, 3, 3, 1)\n",
      "(32, 3, 3, 32)\n",
      "(32, 3, 3, 32)\n",
      "(32, 3, 3, 32)\n",
      "(32, 3, 3, 32)\n",
      "./weights_layer3_tensorflow_new.hdf5\n",
      "(32, 3, 3, 1)\n",
      "(32, 3, 3, 32)\n",
      "(32, 3, 3, 32)\n",
      "(32, 3, 3, 32)\n"
     ]
    }
   ],
   "source": [
    "def copy_files(files):\n",
    "    for f in files:\n",
    "        convert_file(f, rename_file_newtf(f))\n",
    "copy_files(files)"
   ]
  },
  {
   "cell_type": "code",
   "execution_count": 17,
   "metadata": {},
   "outputs": [],
   "source": [
    "path = os.path.dirname(os.path.abspath('.'))"
   ]
  },
  {
   "cell_type": "code",
   "execution_count": 18,
   "metadata": {},
   "outputs": [
    {
     "data": {
      "text/plain": [
       "'/Users/philkuz/research/test_repos/music-auto_tagging-keras'"
      ]
     },
     "execution_count": 18,
     "metadata": {},
     "output_type": "execute_result"
    }
   ],
   "source": [
    "path"
   ]
  },
  {
   "cell_type": "code",
   "execution_count": 112,
   "metadata": {},
   "outputs": [],
   "source": [
    "def rename_file_newtf(fname):\n",
    "    filename = os.path.basename(fname)\n",
    "    path = os.path.dirname(fname)\n",
    "    name, ext = filename.split('.')\n",
    "    name += '_new'\n",
    "    return pj(path, '.'.join([name, ext]))\n",
    "rename_file = rename_file_newtf(all_layers_file)"
   ]
  },
  {
   "cell_type": "code",
   "execution_count": null,
   "metadata": {},
   "outputs": [],
   "source": []
  }
 ],
 "metadata": {
  "kernelspec": {
   "display_name": "Python 2",
   "language": "python",
   "name": "python2"
  },
  "language_info": {
   "codemirror_mode": {
    "name": "ipython",
    "version": 2
   },
   "file_extension": ".py",
   "mimetype": "text/x-python",
   "name": "python",
   "nbconvert_exporter": "python",
   "pygments_lexer": "ipython2",
   "version": "2.7.13"
  }
 },
 "nbformat": 4,
 "nbformat_minor": 2
}
